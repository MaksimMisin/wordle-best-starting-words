{
 "cells": [
  {
   "cell_type": "code",
   "execution_count": 1,
   "id": "20205d94-73f4-41be-9590-07f6acf4f4d4",
   "metadata": {},
   "outputs": [],
   "source": [
    "import requests, math\n",
    "import pandas as pd"
   ]
  },
  {
   "cell_type": "code",
   "execution_count": 2,
   "id": "336038c4-8c38-4508-8471-872b01697c22",
   "metadata": {},
   "outputs": [],
   "source": [
    "words = pd.Series(requests.get('https://raw.githubusercontent.com/derekchuank/high-frequency-vocabulary/master/30k.txt').text.split())"
   ]
  },
  {
   "cell_type": "code",
   "execution_count": 3,
   "id": "c2bbf2c5-0607-4514-8232-7be578669071",
   "metadata": {},
   "outputs": [],
   "source": [
    "words5 = words[words.apply(len)==5]"
   ]
  },
  {
   "cell_type": "markdown",
   "id": "64abb11c-09ee-478b-af1f-e905a5006787",
   "metadata": {},
   "source": [
    "Common 5 letter words"
   ]
  },
  {
   "cell_type": "code",
   "execution_count": 4,
   "id": "56af687b-2c77-48f0-9ec9-360a250096f5",
   "metadata": {},
   "outputs": [
    {
     "data": {
      "text/plain": [
       "35    about\n",
       "45    other\n",
       "56    which\n",
       "57    their\n",
       "62    there\n",
       "dtype: object"
      ]
     },
     "execution_count": 4,
     "metadata": {},
     "output_type": "execute_result"
    }
   ],
   "source": [
    "words5.head()"
   ]
  },
  {
   "cell_type": "code",
   "execution_count": 5,
   "id": "f258bf92-74c8-4f6f-9b39-a6614cd9f6ab",
   "metadata": {},
   "outputs": [],
   "source": [
    "letter_position_freq = pd.DataFrame({\n",
    "    i:words5.apply(lambda x: x[i]).value_counts(normalize=True)\n",
    "    for i in range(5)\n",
    "})"
   ]
  },
  {
   "cell_type": "markdown",
   "id": "72ba94b2-d2df-483a-9fe2-dc3c3a8e4462",
   "metadata": {},
   "source": [
    "Frequencies of each letter at each position"
   ]
  },
  {
   "cell_type": "code",
   "execution_count": 6,
   "id": "dde40668-990f-46b8-9279-743b91cbca78",
   "metadata": {},
   "outputs": [
    {
     "data": {
      "text/html": [
       "<div>\n",
       "<style scoped>\n",
       "    .dataframe tbody tr th:only-of-type {\n",
       "        vertical-align: middle;\n",
       "    }\n",
       "\n",
       "    .dataframe tbody tr th {\n",
       "        vertical-align: top;\n",
       "    }\n",
       "\n",
       "    .dataframe thead th {\n",
       "        text-align: right;\n",
       "    }\n",
       "</style>\n",
       "<table border=\"1\" class=\"dataframe\">\n",
       "  <thead>\n",
       "    <tr style=\"text-align: right;\">\n",
       "      <th></th>\n",
       "      <th>0</th>\n",
       "      <th>1</th>\n",
       "      <th>2</th>\n",
       "      <th>3</th>\n",
       "      <th>4</th>\n",
       "    </tr>\n",
       "  </thead>\n",
       "  <tbody>\n",
       "    <tr>\n",
       "      <th>s</th>\n",
       "      <td>0.118569</td>\n",
       "      <td>0.014030</td>\n",
       "      <td>0.041265</td>\n",
       "      <td>0.047043</td>\n",
       "      <td>0.222558</td>\n",
       "    </tr>\n",
       "    <tr>\n",
       "      <th>c</th>\n",
       "      <td>0.080880</td>\n",
       "      <td>0.014580</td>\n",
       "      <td>0.033287</td>\n",
       "      <td>0.048143</td>\n",
       "      <td>0.011554</td>\n",
       "    </tr>\n",
       "    <tr>\n",
       "      <th>b</th>\n",
       "      <td>0.065475</td>\n",
       "      <td>0.005502</td>\n",
       "      <td>0.024209</td>\n",
       "      <td>0.016781</td>\n",
       "      <td>0.003026</td>\n",
       "    </tr>\n",
       "    <tr>\n",
       "      <th>t</th>\n",
       "      <td>0.064924</td>\n",
       "      <td>0.025309</td>\n",
       "      <td>0.058047</td>\n",
       "      <td>0.072627</td>\n",
       "      <td>0.062724</td>\n",
       "    </tr>\n",
       "    <tr>\n",
       "      <th>p</th>\n",
       "      <td>0.062999</td>\n",
       "      <td>0.017607</td>\n",
       "      <td>0.020633</td>\n",
       "      <td>0.021458</td>\n",
       "      <td>0.012105</td>\n",
       "    </tr>\n",
       "  </tbody>\n",
       "</table>\n",
       "</div>"
      ],
      "text/plain": [
       "          0         1         2         3         4\n",
       "s  0.118569  0.014030  0.041265  0.047043  0.222558\n",
       "c  0.080880  0.014580  0.033287  0.048143  0.011554\n",
       "b  0.065475  0.005502  0.024209  0.016781  0.003026\n",
       "t  0.064924  0.025309  0.058047  0.072627  0.062724\n",
       "p  0.062999  0.017607  0.020633  0.021458  0.012105"
      ]
     },
     "execution_count": 6,
     "metadata": {},
     "output_type": "execute_result"
    }
   ],
   "source": [
    "letter_position_freq.sort_values(0,ascending=False).head()"
   ]
  },
  {
   "cell_type": "markdown",
   "id": "7fdb53f9-e8f8-4864-8be9-6fd84709f64e",
   "metadata": {},
   "source": [
    "5 letter words letter frequencies"
   ]
  },
  {
   "cell_type": "code",
   "execution_count": 8,
   "id": "d2c9b3ea-3960-4b51-bbfb-c083fb1e4a91",
   "metadata": {},
   "outputs": [
    {
     "data": {
      "text/plain": [
       "e    0.108281\n",
       "a    0.093205\n",
       "s    0.088693\n",
       "r    0.070426\n",
       "o    0.068336\n",
       "dtype: float64"
      ]
     },
     "execution_count": 8,
     "metadata": {},
     "output_type": "execute_result"
    }
   ],
   "source": [
    "word_freqs = pd.Series(list(''.join(words5.tolist()))).value_counts(normalize=True)\n",
    "word_freqs.head()"
   ]
  },
  {
   "cell_type": "markdown",
   "id": "a2460d06-79a5-46d5-b4ee-af56a4bcd10b",
   "metadata": {},
   "source": [
    "We define the following scoring system. Letters in the correct positions give 1 point, while letters present in word give 0.5 points. Then:"
   ]
  },
  {
   "cell_type": "code",
   "execution_count": 12,
   "id": "0d42c8c3-8c7c-4af4-86e4-a8d6edf5f43e",
   "metadata": {},
   "outputs": [
    {
     "name": "stdout",
     "output_type": "stream",
     "text": [
      "house: 0.577\n",
      "adieu: 0.506\n",
      "table: 0.626\n"
     ]
    }
   ],
   "source": [
    "def compute_score(word):\n",
    "    score = 0\n",
    "    for pos, letter in enumerate(word):\n",
    "        score += letter_position_freq.loc[letter, pos] + 0.5 * word_freqs.loc[letter]\n",
    "    return score\n",
    "print(f\"house: {compute_score('house'):.3f}\")\n",
    "print(f\"adieu: {compute_score('adieu'):.3f}\")\n",
    "print(f\"table: {compute_score('table'):.3f}\")"
   ]
  },
  {
   "cell_type": "code",
   "execution_count": 11,
   "id": "87193bd3-3113-4f8f-ad57-1b18c49b8f1d",
   "metadata": {},
   "outputs": [
    {
     "data": {
      "text/html": [
       "<div>\n",
       "<style scoped>\n",
       "    .dataframe tbody tr th:only-of-type {\n",
       "        vertical-align: middle;\n",
       "    }\n",
       "\n",
       "    .dataframe tbody tr th {\n",
       "        vertical-align: top;\n",
       "    }\n",
       "\n",
       "    .dataframe thead th {\n",
       "        text-align: right;\n",
       "    }\n",
       "</style>\n",
       "<table border=\"1\" class=\"dataframe\">\n",
       "  <thead>\n",
       "    <tr style=\"text-align: right;\">\n",
       "      <th></th>\n",
       "      <th>score</th>\n",
       "    </tr>\n",
       "    <tr>\n",
       "      <th>word</th>\n",
       "      <th></th>\n",
       "    </tr>\n",
       "  </thead>\n",
       "  <tbody>\n",
       "    <tr>\n",
       "      <th>sales</th>\n",
       "      <td>0.968088</td>\n",
       "    </tr>\n",
       "    <tr>\n",
       "      <th>sores</th>\n",
       "      <td>0.961596</td>\n",
       "    </tr>\n",
       "    <tr>\n",
       "      <th>cares</th>\n",
       "      <td>0.937799</td>\n",
       "    </tr>\n",
       "    <tr>\n",
       "      <th>canes</th>\n",
       "      <td>0.925722</td>\n",
       "    </tr>\n",
       "    <tr>\n",
       "      <th>saves</th>\n",
       "      <td>0.904264</td>\n",
       "    </tr>\n",
       "    <tr>\n",
       "      <th>lanes</th>\n",
       "      <td>0.903961</td>\n",
       "    </tr>\n",
       "    <tr>\n",
       "      <th>ceres</th>\n",
       "      <td>0.901045</td>\n",
       "    </tr>\n",
       "    <tr>\n",
       "      <th>cases</th>\n",
       "      <td>0.898790</td>\n",
       "    </tr>\n",
       "    <tr>\n",
       "      <th>tales</th>\n",
       "      <td>0.898459</td>\n",
       "    </tr>\n",
       "    <tr>\n",
       "      <th>cores</th>\n",
       "      <td>0.898404</td>\n",
       "    </tr>\n",
       "    <tr>\n",
       "      <th>fares</th>\n",
       "      <td>0.898349</td>\n",
       "    </tr>\n",
       "    <tr>\n",
       "      <th>danes</th>\n",
       "      <td>0.896946</td>\n",
       "    </tr>\n",
       "    <tr>\n",
       "      <th>safes</th>\n",
       "      <td>0.894553</td>\n",
       "    </tr>\n",
       "    <tr>\n",
       "      <th>sites</th>\n",
       "      <td>0.887538</td>\n",
       "    </tr>\n",
       "    <tr>\n",
       "      <th>cones</th>\n",
       "      <td>0.886327</td>\n",
       "    </tr>\n",
       "    <tr>\n",
       "      <th>rates</th>\n",
       "      <td>0.882118</td>\n",
       "    </tr>\n",
       "    <tr>\n",
       "      <th>hanes</th>\n",
       "      <td>0.880770</td>\n",
       "    </tr>\n",
       "    <tr>\n",
       "      <th>tones</th>\n",
       "      <td>0.879890</td>\n",
       "    </tr>\n",
       "    <tr>\n",
       "      <th>wares</th>\n",
       "      <td>0.878817</td>\n",
       "    </tr>\n",
       "    <tr>\n",
       "      <th>males</th>\n",
       "      <td>0.878184</td>\n",
       "    </tr>\n",
       "    <tr>\n",
       "      <th>bates</th>\n",
       "      <td>0.876836</td>\n",
       "    </tr>\n",
       "    <tr>\n",
       "      <th>bases</th>\n",
       "      <td>0.876039</td>\n",
       "    </tr>\n",
       "    <tr>\n",
       "      <th>mates</th>\n",
       "      <td>0.872875</td>\n",
       "    </tr>\n",
       "    <tr>\n",
       "      <th>sears</th>\n",
       "      <td>0.871142</td>\n",
       "    </tr>\n",
       "    <tr>\n",
       "      <th>seats</th>\n",
       "      <td>0.870894</td>\n",
       "    </tr>\n",
       "    <tr>\n",
       "      <th>dates</th>\n",
       "      <td>0.870812</td>\n",
       "    </tr>\n",
       "    <tr>\n",
       "      <th>aires</th>\n",
       "      <td>0.868308</td>\n",
       "    </tr>\n",
       "    <tr>\n",
       "      <th>coles</th>\n",
       "      <td>0.865502</td>\n",
       "    </tr>\n",
       "    <tr>\n",
       "      <th>bones</th>\n",
       "      <td>0.863576</td>\n",
       "    </tr>\n",
       "    <tr>\n",
       "      <th>sails</th>\n",
       "      <td>0.860000</td>\n",
       "    </tr>\n",
       "  </tbody>\n",
       "</table>\n",
       "</div>"
      ],
      "text/plain": [
       "          score\n",
       "word           \n",
       "sales  0.968088\n",
       "sores  0.961596\n",
       "cares  0.937799\n",
       "canes  0.925722\n",
       "saves  0.904264\n",
       "lanes  0.903961\n",
       "ceres  0.901045\n",
       "cases  0.898790\n",
       "tales  0.898459\n",
       "cores  0.898404\n",
       "fares  0.898349\n",
       "danes  0.896946\n",
       "safes  0.894553\n",
       "sites  0.887538\n",
       "cones  0.886327\n",
       "rates  0.882118\n",
       "hanes  0.880770\n",
       "tones  0.879890\n",
       "wares  0.878817\n",
       "males  0.878184\n",
       "bates  0.876836\n",
       "bases  0.876039\n",
       "mates  0.872875\n",
       "sears  0.871142\n",
       "seats  0.870894\n",
       "dates  0.870812\n",
       "aires  0.868308\n",
       "coles  0.865502\n",
       "bones  0.863576\n",
       "sails  0.860000"
      ]
     },
     "execution_count": 11,
     "metadata": {},
     "output_type": "execute_result"
    }
   ],
   "source": [
    "words5.to_frame('word').assign(score=words5.apply(compute_score)).sort_values('score',ascending=False).head(30).set_index('word')"
   ]
  },
  {
   "cell_type": "code",
   "execution_count": null,
   "id": "64a29229-9439-44c2-952a-cbd625954baf",
   "metadata": {},
   "outputs": [],
   "source": []
  }
 ],
 "metadata": {
  "environment": {
   "name": "common-cu110.m81",
   "type": "gcloud",
   "uri": "gcr.io/deeplearning-platform-release/base-cu110:m81"
  },
  "kernelspec": {
   "display_name": "Python 3",
   "language": "python",
   "name": "python3"
  },
  "language_info": {
   "codemirror_mode": {
    "name": "ipython",
    "version": 3
   },
   "file_extension": ".py",
   "mimetype": "text/x-python",
   "name": "python",
   "nbconvert_exporter": "python",
   "pygments_lexer": "ipython3",
   "version": "3.7.10"
  }
 },
 "nbformat": 4,
 "nbformat_minor": 5
}
